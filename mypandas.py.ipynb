{
 "cells": [
  {
   "cell_type": "code",
   "execution_count": 1,
   "id": "314d2aed",
   "metadata": {},
   "outputs": [],
   "source": [
    "import psycopg2\n",
    "import pandas as pd\n",
    "# Specify the file path\n",
    "file_path = \"C:/Users/USER/OneDrive/Documents/student's marks.xlsx\"\n",
    "# Read the Excel file into a Pandas DataFrame\n",
    "df = pd.read_excel(file_path)"
   ]
  },
  {
   "cell_type": "code",
   "execution_count": 2,
   "id": "f07ca17f",
   "metadata": {},
   "outputs": [],
   "source": [
    "import warnings\n",
    "warnings.filterwarnings(\"ignore\")"
   ]
  },
  {
   "cell_type": "code",
   "execution_count": 3,
   "id": "4100e9ba",
   "metadata": {},
   "outputs": [
    {
     "data": {
      "text/html": [
       "<div>\n",
       "<style scoped>\n",
       "    .dataframe tbody tr th:only-of-type {\n",
       "        vertical-align: middle;\n",
       "    }\n",
       "\n",
       "    .dataframe tbody tr th {\n",
       "        vertical-align: top;\n",
       "    }\n",
       "\n",
       "    .dataframe thead th {\n",
       "        text-align: right;\n",
       "    }\n",
       "</style>\n",
       "<table border=\"1\" class=\"dataframe\">\n",
       "  <thead>\n",
       "    <tr style=\"text-align: right;\">\n",
       "      <th></th>\n",
       "      <th>Student Name</th>\n",
       "      <th>Marks</th>\n",
       "    </tr>\n",
       "  </thead>\n",
       "  <tbody>\n",
       "    <tr>\n",
       "      <th>0</th>\n",
       "      <td>Alice</td>\n",
       "      <td>0.84</td>\n",
       "    </tr>\n",
       "    <tr>\n",
       "      <th>1</th>\n",
       "      <td>Bob</td>\n",
       "      <td>0.57</td>\n",
       "    </tr>\n",
       "    <tr>\n",
       "      <th>2</th>\n",
       "      <td>Carol</td>\n",
       "      <td>0.95</td>\n",
       "    </tr>\n",
       "    <tr>\n",
       "      <th>3</th>\n",
       "      <td>Emily</td>\n",
       "      <td>0.69</td>\n",
       "    </tr>\n",
       "    <tr>\n",
       "      <th>4</th>\n",
       "      <td>Frank</td>\n",
       "      <td>0.41</td>\n",
       "    </tr>\n",
       "    <tr>\n",
       "      <th>5</th>\n",
       "      <td>Henry</td>\n",
       "      <td>0.74</td>\n",
       "    </tr>\n",
       "    <tr>\n",
       "      <th>6</th>\n",
       "      <td>Jack</td>\n",
       "      <td>0.33</td>\n",
       "    </tr>\n",
       "  </tbody>\n",
       "</table>\n",
       "</div>"
      ],
      "text/plain": [
       "  Student Name  Marks\n",
       "0        Alice   0.84\n",
       "1         Bob    0.57\n",
       "2        Carol   0.95\n",
       "3        Emily   0.69\n",
       "4        Frank   0.41\n",
       "5        Henry   0.74\n",
       "6         Jack   0.33"
      ]
     },
     "execution_count": 3,
     "metadata": {},
     "output_type": "execute_result"
    }
   ],
   "source": [
    "df"
   ]
  },
  {
   "cell_type": "code",
   "execution_count": 4,
   "id": "66133333",
   "metadata": {},
   "outputs": [],
   "source": [
    "data = { \n",
    "         \"first name\" : [\"John\", \"James\", \"Mary\"], \n",
    "         \"Age\" :  [22, 34, 30], \n",
    "         \"GENDER\":[\"M\", \"M\", \"F\"], \n",
    "         \"salary \":[30000, 56000, 44000]\n",
    "       }"
   ]
  },
  {
   "cell_type": "code",
   "execution_count": 5,
   "id": "40b51c36",
   "metadata": {},
   "outputs": [],
   "source": [
    "mydf = pd.DataFrame(data)"
   ]
  },
  {
   "cell_type": "code",
   "execution_count": 6,
   "id": "f287dc9f",
   "metadata": {},
   "outputs": [
    {
     "data": {
      "text/plain": [
       "dict"
      ]
     },
     "execution_count": 6,
     "metadata": {},
     "output_type": "execute_result"
    }
   ],
   "source": [
    "type(data)"
   ]
  },
  {
   "cell_type": "code",
   "execution_count": 7,
   "id": "f3b2da9c",
   "metadata": {},
   "outputs": [
    {
     "data": {
      "text/plain": [
       "Index(['first name', 'Age', 'GENDER', 'salary '], dtype='object')"
      ]
     },
     "execution_count": 7,
     "metadata": {},
     "output_type": "execute_result"
    }
   ],
   "source": [
    "mydf.columns"
   ]
  },
  {
   "cell_type": "code",
   "execution_count": 8,
   "id": "773fef9f",
   "metadata": {},
   "outputs": [
    {
     "data": {
      "text/plain": [
       "0    22\n",
       "1    34\n",
       "2    30\n",
       "Name: Age, dtype: int64"
      ]
     },
     "execution_count": 8,
     "metadata": {},
     "output_type": "execute_result"
    }
   ],
   "source": [
    "mydf['Age']"
   ]
  },
  {
   "cell_type": "code",
   "execution_count": 9,
   "id": "5ac8cf5d",
   "metadata": {},
   "outputs": [
    {
     "data": {
      "text/plain": [
       "Index(['first name', 'age', 'gender', 'salary '], dtype='object')"
      ]
     },
     "execution_count": 9,
     "metadata": {},
     "output_type": "execute_result"
    }
   ],
   "source": [
    "mydf.columns.map(str.lower)"
   ]
  },
  {
   "cell_type": "code",
   "execution_count": 10,
   "id": "789efef3",
   "metadata": {},
   "outputs": [
    {
     "data": {
      "text/plain": [
       "{'first name': ['John', 'James', 'Mary'],\n",
       " 'age': [22, 34, 30],\n",
       " 'gender': ['M', 'M', 'F'],\n",
       " 'salary ': [30000, 56000, 44000]}"
      ]
     },
     "execution_count": 10,
     "metadata": {},
     "output_type": "execute_result"
    }
   ],
   "source": [
    "def cleanColumn(data):\n",
    "    keysList = list(data.keys())\n",
    "    for key in keysList:\n",
    "        data[key.lower()] = data.pop(key)   \n",
    "map(cleanColumn(data), data)\n",
    "data"
   ]
  },
  {
   "cell_type": "code",
   "execution_count": 11,
   "id": "a24105c6",
   "metadata": {},
   "outputs": [],
   "source": [
    "conn = psycopg2.connect(\"dbname=myduka user=postgres password=Candidcoco@20\")"
   ]
  },
  {
   "cell_type": "code",
   "execution_count": 12,
   "id": "f4d02b9a",
   "metadata": {},
   "outputs": [],
   "source": [
    "df = pd.read_sql_query(\"SELECT sales.id as sales_id, product_name, buying_price, selling_price, sales.quantity as sales_quantity, created_at as sales_created_at FROM products,sales WHERE products.id = sales.pid\", conn) "
   ]
  },
  {
   "cell_type": "code",
   "execution_count": 13,
   "id": "8d72b0f2",
   "metadata": {},
   "outputs": [],
   "source": [
    "df.set_index('sales_id', inplace=True,verify_integrity=False)"
   ]
  },
  {
   "cell_type": "code",
   "execution_count": 14,
   "id": "2d744f1e",
   "metadata": {},
   "outputs": [
    {
     "data": {
      "text/html": [
       "<div>\n",
       "<style scoped>\n",
       "    .dataframe tbody tr th:only-of-type {\n",
       "        vertical-align: middle;\n",
       "    }\n",
       "\n",
       "    .dataframe tbody tr th {\n",
       "        vertical-align: top;\n",
       "    }\n",
       "\n",
       "    .dataframe thead th {\n",
       "        text-align: right;\n",
       "    }\n",
       "</style>\n",
       "<table border=\"1\" class=\"dataframe\">\n",
       "  <thead>\n",
       "    <tr style=\"text-align: right;\">\n",
       "      <th></th>\n",
       "      <th>product_name</th>\n",
       "      <th>buying_price</th>\n",
       "      <th>selling_price</th>\n",
       "      <th>sales_quantity</th>\n",
       "      <th>sales_created_at</th>\n",
       "    </tr>\n",
       "    <tr>\n",
       "      <th>sales_id</th>\n",
       "      <th></th>\n",
       "      <th></th>\n",
       "      <th></th>\n",
       "      <th></th>\n",
       "      <th></th>\n",
       "    </tr>\n",
       "  </thead>\n",
       "  <tbody>\n",
       "    <tr>\n",
       "      <th>1</th>\n",
       "      <td>Vinegar - Tarragon</td>\n",
       "      <td>65</td>\n",
       "      <td>21</td>\n",
       "      <td>23</td>\n",
       "      <td>2022-11-13</td>\n",
       "    </tr>\n",
       "    <tr>\n",
       "      <th>2</th>\n",
       "      <td>Cloves - Whole</td>\n",
       "      <td>33</td>\n",
       "      <td>75</td>\n",
       "      <td>12</td>\n",
       "      <td>2022-08-31</td>\n",
       "    </tr>\n",
       "    <tr>\n",
       "      <th>3</th>\n",
       "      <td>Pail - 15l White, With Handle</td>\n",
       "      <td>47</td>\n",
       "      <td>10</td>\n",
       "      <td>92</td>\n",
       "      <td>2022-12-29</td>\n",
       "    </tr>\n",
       "    <tr>\n",
       "      <th>4</th>\n",
       "      <td>Chocolate - Pistoles, Lactee, Milk</td>\n",
       "      <td>75</td>\n",
       "      <td>37</td>\n",
       "      <td>17</td>\n",
       "      <td>2023-04-08</td>\n",
       "    </tr>\n",
       "    <tr>\n",
       "      <th>5</th>\n",
       "      <td>Cassis</td>\n",
       "      <td>16</td>\n",
       "      <td>82</td>\n",
       "      <td>100</td>\n",
       "      <td>2023-05-25</td>\n",
       "    </tr>\n",
       "  </tbody>\n",
       "</table>\n",
       "</div>"
      ],
      "text/plain": [
       "                                product_name  buying_price  selling_price  \\\n",
       "sales_id                                                                    \n",
       "1                         Vinegar - Tarragon            65             21   \n",
       "2                             Cloves - Whole            33             75   \n",
       "3              Pail - 15l White, With Handle            47             10   \n",
       "4         Chocolate - Pistoles, Lactee, Milk            75             37   \n",
       "5                                     Cassis            16             82   \n",
       "\n",
       "          sales_quantity sales_created_at  \n",
       "sales_id                                   \n",
       "1                     23       2022-11-13  \n",
       "2                     12       2022-08-31  \n",
       "3                     92       2022-12-29  \n",
       "4                     17       2023-04-08  \n",
       "5                    100       2023-05-25  "
      ]
     },
     "execution_count": 14,
     "metadata": {},
     "output_type": "execute_result"
    }
   ],
   "source": [
    "df.head(5)"
   ]
  },
  {
   "cell_type": "code",
   "execution_count": null,
   "id": "b6d46437",
   "metadata": {},
   "outputs": [],
   "source": []
  }
 ],
 "metadata": {
  "kernelspec": {
   "display_name": "Python 3 (ipykernel)",
   "language": "python",
   "name": "python3"
  },
  "language_info": {
   "codemirror_mode": {
    "name": "ipython",
    "version": 3
   },
   "file_extension": ".py",
   "mimetype": "text/x-python",
   "name": "python",
   "nbconvert_exporter": "python",
   "pygments_lexer": "ipython3",
   "version": "3.11.3"
  }
 },
 "nbformat": 4,
 "nbformat_minor": 5
}
